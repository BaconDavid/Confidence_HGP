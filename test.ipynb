{
 "cells": [
  {
   "cell_type": "code",
   "execution_count": 387,
   "metadata": {},
   "outputs": [],
   "source": [
    "import torch\n",
    "from torch import nn, optim\n",
    "from torch.utils.data import DataLoader, TensorDataset\n",
    "\n",
    "# 定义一个简单的线性模型\n",
    "class SimpleModel(nn.Module):\n",
    "    def __init__(self):\n",
    "        super(SimpleModel, self).__init__()\n",
    "        self.fc = nn.Linear(10, 1)\n",
    "\n",
    "    def forward(self, x):\n",
    "        return self.fc(x)\n",
    "\n",
    "# 创建固定的输入数据和目标数据\n",
    "torch.manual_seed(0)\n",
    "data = torch.randn(2, 10)  # 20个样本，每个样本10个特征\n",
    "targets = torch.randn(2, 1)\n",
    "# 创建数据集\n",
    "dataset = TensorDataset(data, targets)\n",
    "\n",
    "# 初始化模型、损失函数和优化器\n",
    "model1 = SimpleModel()\n",
    "criterion = nn.MSELoss()\n",
    "optimizer1 = optim.SGD(model1.parameters(), lr=0.01)\n",
    "\n",
    "# 方法一：使用 batch_size=5\n",
    "dataloader1 = DataLoader(dataset, batch_size=2, shuffle=False)\n",
    "\n"
   ]
  },
  {
   "cell_type": "code",
   "execution_count": 365,
   "metadata": {},
   "outputs": [
    {
     "data": {
      "text/plain": [
       "tensor([3.9182], grad_fn=<MulBackward0>)"
      ]
     },
     "execution_count": 365,
     "metadata": {},
     "output_type": "execute_result"
    }
   ],
   "source": [
    "inputs_1[1][0] * ( target - targets[1]) * 2\n"
   ]
  },
  {
   "cell_type": "code",
   "execution_count": 368,
   "metadata": {},
   "outputs": [
    {
     "data": {
      "text/plain": [
       "tensor([-3.8399], grad_fn=<MulBackward0>)"
      ]
     },
     "execution_count": 368,
     "metadata": {},
     "output_type": "execute_result"
    }
   ],
   "source": [
    "inputs_1[0][0] * ( target - targets[0]) * 2\n"
   ]
  },
  {
   "cell_type": "code",
   "execution_count": 389,
   "metadata": {},
   "outputs": [
    {
     "name": "stdout",
     "output_type": "stream",
     "text": [
      "fc.weight tensor([[ 0.0783, -3.2083,  2.9162,  2.8256,  4.6108, -7.5938,  1.3648,  9.7371,\n",
      "          7.0382, -0.3921]])\n",
      "fc.bias tensor([6.1248])\n",
      "tensor(0.9208, grad_fn=<DivBackward0>) loss\n"
     ]
    }
   ],
   "source": [
    "target = model1(inputs_1[1])\n",
    "loss = criterion(target,targets[1])\n",
    "loss.backward()\n",
    "#optimizer1.step()\n",
    "loss /= 2\n",
    "#print gradients of the model parameters\n",
    "for name, param in model1.named_parameters():\n",
    "    if param.requires_grad:\n",
    "        print(name, param.grad)\n",
    "print(loss,'loss')\n"
   ]
  },
  {
   "cell_type": "code",
   "execution_count": 390,
   "metadata": {},
   "outputs": [
    {
     "data": {
      "text/plain": [
       "Parameter containing:\n",
       "tensor([[ 0.0158, -0.1300,  0.0243, -0.3235, -0.2746, -0.0871,  0.1859,  0.0880,\n",
       "         -0.2106, -0.0075]], requires_grad=True)"
      ]
     },
     "execution_count": 390,
     "metadata": {},
     "output_type": "execute_result"
    }
   ],
   "source": [
    "optimizer1.step()\n",
    "next(model1.parameters())"
   ]
  },
  {
   "cell_type": "code",
   "execution_count": 383,
   "metadata": {},
   "outputs": [
    {
     "name": "stdout",
     "output_type": "stream",
     "text": [
      "tensor([[ 0.8133],\n",
      "        [-0.1521]], grad_fn=<AddmmBackward0>) tensor([[-0.8920],\n",
      "        [-1.5091]]) dataloader1 outputs\n",
      "tensor([[-0.8920],\n",
      "        [-1.5091]]) tensor([[ 0.8133],\n",
      "        [-0.1521]], grad_fn=<AddmmBackward0>) dataloader1 targets\n",
      "fc.weight tensor([[ 0.0392, -1.6041,  1.4581,  1.4128,  2.3054, -3.7969,  0.6824,  4.8685,\n",
      "          3.5191, -0.1960]])\n",
      "fc.bias tensor([3.0624])\n",
      "Loss: 2.3748865127563477,mean loss: 2.3748865127563477\n",
      "Parameter containing:\n",
      "tensor([[ 0.0162, -0.1461,  0.0389, -0.3094, -0.2515, -0.1251,  0.1927,  0.1367,\n",
      "         -0.1754, -0.0094]], requires_grad=True)\n"
     ]
    }
   ],
   "source": [
    "\n",
    "for inputs_1, targets in dataloader1:\n",
    "    optimizer1.zero_grad()\n",
    "    outputs = model1(inputs_1)\n",
    "    print(outputs,targets,'dataloader1 outputs')\n",
    "    loss = criterion(outputs, targets)\n",
    "    print(targets,outputs,'dataloader1 targets')\n",
    "    loss.backward()\n",
    "    optimizer1.step()\n",
    "    #check graditn of model1\n",
    "    for name, param in model1.named_parameters():\n",
    "        if param.requires_grad:\n",
    "            print(name, param.grad)\n",
    "    print(f'Loss: {loss},mean loss: {loss.mean()}')\n",
    "    break\n",
    "print(next(model1.parameters()))\n"
   ]
  },
  {
   "cell_type": "code",
   "execution_count": 241,
   "metadata": {},
   "outputs": [
    {
     "name": "stdout",
     "output_type": "stream",
     "text": [
      "\n",
      "Method 2 (batch_size=1, accumulate 5 batches):\n",
      "fc.weight tensor([[ 0.3222,  0.3297,  0.0717,  0.1242, -0.2429, -0.1980,  0.0904,  0.6053,\n",
      "         -0.0922,  0.3615]])\n",
      "fc.bias tensor([-0.2861])\n",
      "0.020470213145017624 7777\n",
      "fc.weight tensor([[ 0.0821,  0.1184, -0.0105, -0.7247, -1.0088, -0.0284,  1.0182,  1.7685,\n",
      "         -0.4809, -0.1828]])\n",
      "fc.bias tensor([-0.9720])\n",
      "0.11761268973350525 7777\n",
      "fc.weight tensor([[ 0.0573,  0.1828,  0.0036, -0.8015, -1.0399, -0.0042,  1.0254,  1.7609,\n",
      "         -0.5384, -0.2485]])\n",
      "fc.bias tensor([-1.0135])\n",
      "0.00042905681766569614 7777\n",
      "fc.weight tensor([[ 2.6786, -2.1542, -1.6960, -0.7140,  1.8835,  0.4885,  0.3873,  0.6757,\n",
      "          0.9665, -1.3431]])\n",
      "fc.bias tensor([1.7566])\n",
      "1.9183471202850342 7777\n",
      "fc.weight tensor([[ 3.7872, -4.5832,  6.5077, 17.6813, -6.3753, -6.1681, 10.2024, -2.2991,\n",
      "         -6.1819, -0.3261]])\n",
      "fc.bias tensor([7.1503])\n",
      "7.2730183601379395 7777\n",
      "Accumulated Loss: 1.8659754880238324,1.8659756183624268\n"
     ]
    }
   ],
   "source": [
    "\n",
    "# 方法二：使用 batch_size=1，累积多个批次的输出然后一次性计算损失并反向传播\n",
    "dataloader2 = DataLoader(dataset, batch_size=1, shuffle=False)\n",
    "accumulation_steps = 5\n",
    "logits_list = []\n",
    "targets_list = []\n",
    "inputs_2_list = []\n",
    "loss_acc = 0\n",
    "print(\"\\nMethod 2 (batch_size=1, accumulate 5 batches):\")\n",
    "for batch_idx, (inputs_2, targets) in enumerate(dataloader2):\n",
    "    inputs_2_list.append(inputs_2)\n",
    "    outputs = model1(inputs_2)\n",
    "    loss = criterion(outputs, targets)\n",
    "    loss.backward()\n",
    "    #check gradienet\n",
    "    for name, param in model1.named_parameters():\n",
    "        if param.requires_grad:\n",
    "            print(name, param.grad)\n",
    "    loss_acc += loss.item()\n",
    "    logits_list.append(outputs)\n",
    "    targets_list.append(targets)\n",
    "    print(loss.item(),'7777')\n",
    "\n",
    "    if (batch_idx + 1) % accumulation_steps == 0:\n",
    "        #all_logits = torch.cat(logits_list)\n",
    "        #all_targets = torch.cat(targets_list)\n",
    "        #print(all_logits,all_targets,'dataloader2 all_logits')\n",
    "        #optimizer1.step()\n",
    "        #logits_list = []\n",
    "        #targets_list = []\n",
    "        print(f'Accumulated Loss: {loss_acc/5},{loss_.item()}')\n",
    "        break\n",
    "    \n",
    "\n"
   ]
  },
  {
   "cell_type": "code",
   "execution_count": 380,
   "metadata": {},
   "outputs": [
    {
     "name": "stdout",
     "output_type": "stream",
     "text": [
      "\n",
      "Method 2 (batch_size=1, accumulate 5 batches):\n",
      "2.3748865127563477 7777\n",
      "2.3748865127563477 7777\n",
      "fc.weight tensor([[ 0.0392, -1.6041,  1.4581,  1.4128,  2.3054, -3.7969,  0.6824,  4.8685,\n",
      "          3.5191, -0.1960]])\n",
      "fc.bias tensor([3.0624])\n",
      "Accumulated Loss: 2.3748865127563477\n"
     ]
    }
   ],
   "source": [
    "\n",
    "# 方法二：使用 batch_size=1，累积多个批次的输出然后一次性计算损失并反向传播\n",
    "dataloader2 = DataLoader(dataset, batch_size=1, shuffle=False)\n",
    "accumulation_steps = 2\n",
    "logits_list = []\n",
    "targets_list = []\n",
    "inputs_2_list = []\n",
    "loss_acc = 0\n",
    "print(\"\\nMethod 2 (batch_size=1, accumulate 5 batches):\")\n",
    "for batch_idx, (inputs_2, targets) in enumerate(dataloader2):\n",
    "    inputs_2_list.append(inputs_2)\n",
    "    outputs = model1(inputs_2)\n",
    "    #check gradienet\n",
    "\n",
    "    loss_acc += loss.item()\n",
    "    logits_list.append(outputs)\n",
    "    targets_list.append(targets)\n",
    "    print(loss.item(),'7777')\n",
    "\n",
    "    if (batch_idx + 1) % accumulation_steps == 0:\n",
    "        #all_logits = torch.cat(logits_list)\n",
    "        #all_targets = torch.cat(targets_list)\n",
    "        #print(all_logits,all_targets,'dataloader2 all_logits')\n",
    "        loss = criterion(torch.cat(logits_list), torch.cat(targets_list))\n",
    "        loss.backward()\n",
    "        #optimizer1.step()\n",
    "        #logits_list = []\n",
    "        #targets_list = []\n",
    "        for name, param in model1.named_parameters():\n",
    "            if param.requires_grad:\n",
    "                print(name, param.grad)\n",
    "        print(f'Accumulated Loss: {loss_acc/2}')\n",
    "        break\n",
    "    \n"
   ]
  },
  {
   "cell_type": "code",
   "execution_count": 71,
   "metadata": {},
   "outputs": [
    {
     "name": "stdout",
     "output_type": "stream",
     "text": [
      "tensor([[0.1161],\n",
      "        [0.2823],\n",
      "        [0.0194],\n",
      "        [0.6673],\n",
      "        [1.1197]], grad_fn=<AddmmBackward0>)\n"
     ]
    }
   ],
   "source": [
    "# 方法二：累积多个批次的 logits 然后进行一次反向传播\n",
    "accumulation_steps = 5  # 在 4 个批次后进行一次反向传播\n",
    "logits_list = []\n",
    "targets_list = []\n",
    "\n",
    "for epoch in range(1):  # 仅演示一个 epoch\n",
    "    for batch_idx, (inputs, targets) in enumerate(dataloader):\n",
    "        outputs = model1(inputs)\n",
    "        print(outputs)\n",
    "        logits_list.append(outputs)\n",
    "        targets_list.append(targets)\n",
    "\n",
    "        if (batch_idx + 1) % accumulation_steps == 0:\n",
    "            optimizer2.zero_grad()\n",
    "            all_logits = torch.cat(logits_list)\n",
    "            all_targets = torch.cat(targets_list)\n",
    "            loss = criterion(all_logits, all_targets)\n",
    "            print(all_logits,all_targets,loss,'loss')\n",
    "            #loss.backward()\n",
    "            #optimizer2.step()\n",
    "            logits_list = []\n",
    "            targets_list = []\n",
    "            print(f'Method 2 - Epoch: {epoch+1}, Batch: {batch_idx+1}, Loss: {loss.item()}')\n",
    "        break\n"
   ]
  },
  {
   "cell_type": "code",
   "execution_count": 381,
   "metadata": {},
   "outputs": [
    {
     "data": {
      "text/plain": [
       "Parameter containing:\n",
       "tensor([[ 0.0166, -0.1621,  0.0535, -0.2953, -0.2285, -0.1630,  0.1995,  0.1854,\n",
       "         -0.1402, -0.0114]], requires_grad=True)"
      ]
     },
     "execution_count": 381,
     "metadata": {},
     "output_type": "execute_result"
    }
   ],
   "source": [
    "next(model1.parameters())"
   ]
  },
  {
   "cell_type": "code",
   "execution_count": 1,
   "metadata": {},
   "outputs": [
    {
     "ename": "SyntaxError",
     "evalue": "invalid syntax (2780705442.py, line 14)",
     "output_type": "error",
     "traceback": [
      "\u001b[1;36m  Cell \u001b[1;32mIn[1], line 14\u001b[1;36m\u001b[0m\n\u001b[1;33m    from monai\u001b[0m\n\u001b[1;37m              ^\u001b[0m\n\u001b[1;31mSyntaxError\u001b[0m\u001b[1;31m:\u001b[0m invalid syntax\n"
     ]
    }
   ],
   "source": [
    "#\n",
    "from monai.transforms import Compose,EnsureChannelFirst,RandFlipd,CenterSpatialCrop\n",
    "import SimpleITK as sitk\n",
    "import torch\n",
    "img = sitk.ReadImage('../Data/Mixed_HGP/CILM_CT_10033_0.nii.gz')\n",
    "img_array = sitk.GetArrayFromImage(img).reshape(1,26,212,245)\n",
    "\n",
    "print(img_array.shape)\n",
    "#img_array = torch.from_numpy(img_array).unsqueeze(0)\n",
    "transforms = Compose([CenterSpatialCrop((12,12,12))])\n",
    "img_array = transforms(img_array)\n",
    "img_array.shape\n",
    "\n"
   ]
  },
  {
   "cell_type": "code",
   "execution_count": 7,
   "metadata": {},
   "outputs": [
    {
     "data": {
      "image/png": "[encoded data removed]",
      "text/plain": [
       "<Figure size 640x480 with 1 Axes>"
      ]
     },
     "metadata": {},
     "output_type": "display_data"
    }
   ],
   "source": [
    "import math\n",
    "import matplotlib.pyplot as plt\n",
    "from monai.optimizers.lr_scheduler import WarmupCosineSchedule\n",
    "from torch.optim import SGD\n",
    "import torch\n",
    "\n",
    "# 创建示例参数\n",
    "initial_lr = 0.1\n",
    "warmup_steps = 2000\n",
    "t_total = 13000\n",
    "end_lr = 0.0\n",
    "cycles = 1\n",
    "warmup_multiplier = 0.1\n",
    "\n",
    "# 创建一个参数张量用于优化器\n",
    "params = torch.nn.Parameter(torch.tensor([0.0]))\n",
    "\n",
    "# 创建优化器\n",
    "optimizer = SGD([params], lr=initial_lr)\n",
    "\n",
    "# 创建调度器\n",
    "scheduler = WarmupCosineSchedule(\n",
    "    optimizer=optimizer,\n",
    "    warmup_steps=warmup_steps,\n",
    "    t_total=t_total,\n",
    "    end_lr=end_lr,\n",
    "    cycles=0.5,\n",
    "    warmup_multiplier=warmup_multiplier,\n",
    ")\n",
    "\n",
    "# 模拟运行20000步，记录每一步的学习率\n",
    "lrs = []\n",
    "for step in range(20000):\n",
    "    optimizer.step()\n",
    "    lrs.append(optimizer.param_groups[0]['lr'])\n",
    "    scheduler.step()\n",
    "\n",
    "# 绘制学习率变化图\n",
    "plt.plot(lrs)\n",
    "plt.xlabel(\"Step\")\n",
    "plt.ylabel(\"Learning Rate\")\n",
    "plt.title(\"Learning Rate Schedule using MONAI WarmupCosineSchedule\")\n",
    "plt.grid()\n",
    "plt.show()\n"
   ]
  },
  {
   "cell_type": "markdown",
   "metadata": {},
   "source": [
    "# check array\n"
   ]
  },
  {
   "cell_type": "code",
   "execution_count": 17,
   "metadata": {},
   "outputs": [
    {
     "data": {
      "text/plain": [
       "(tensor([[0.5448, 0.4552],\n",
       "         [0.5928, 0.4072],\n",
       "         [0.5465, 0.4535],\n",
       "         [0.5520, 0.4480],\n",
       "         [0.5571, 0.4429],\n",
       "         [0.5519, 0.4481],\n",
       "         [0.5505, 0.4495]]),\n",
       " array([[0.54483104, 0.45516896],\n",
       "        [0.59276843, 0.40723157],\n",
       "        [0.5464891 , 0.4535109 ],\n",
       "        [0.55201524, 0.44798478],\n",
       "        [0.55706173, 0.4429382 ],\n",
       "        [0.55190283, 0.44809717],\n",
       "        [0.55045736, 0.44954264]], dtype=float32))"
      ]
     },
     "execution_count": 17,
     "metadata": {},
     "output_type": "execute_result"
    }
   ],
   "source": [
    "import numpy as np\n",
    "from torch.nn.functional import softmax\n",
    "import torch\n",
    "correct_array = np.load('../Data/test/Confi_lg_tm_plus_5_0/0/correct_array.npy')\n",
    "logit_array = np.load('../Data/test/Confi_lg_tm_plus_5_0/0/logit_array.npy')\n",
    "soft_max_array = np.load('../Data/test/Confi_lg_tm_plus_5_0/0/softmax_array.npy')\n",
    "\n",
    "logit_tennsor = torch.from_numpy(logit_array)\n",
    "\n",
    "\n",
    "\n",
    "softmax_tennsor = softmax(logit_tennsor, dim=1)\n"
   ]
  }
 ],
 "metadata": {
  "kernelspec": {
   "display_name": "Confidence",
   "language": "python",
   "name": "python3"
  },
  "language_info": {
   "codemirror_mode": {
    "name": "ipython",
    "version": 3
   },
   "file_extension": ".py",
   "mimetype": "text/x-python",
   "name": "python",
   "nbconvert_exporter": "python",
   "pygments_lexer": "ipython3",
   "version": "3.10.14"
  }
 },
 "nbformat": 4,
 "nbformat_minor": 2
}
